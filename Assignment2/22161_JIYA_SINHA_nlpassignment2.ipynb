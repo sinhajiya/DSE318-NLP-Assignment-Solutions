{
  "nbformat": 4,
  "nbformat_minor": 0,
  "metadata": {
    "colab": {
      "provenance": [],
      "toc_visible": true,
      "authorship_tag": "ABX9TyP0JRezangCzOL0UECG1FxN",
      "include_colab_link": true
    },
    "kernelspec": {
      "name": "python3",
      "display_name": "Python 3"
    },
    "language_info": {
      "name": "python"
    }
  },
  "cells": [
    {
      "cell_type": "markdown",
      "metadata": {
        "id": "view-in-github",
        "colab_type": "text"
      },
      "source": [
        "<a href=\"https://colab.research.google.com/github/sinhajiya/DSE318-NLP-Assignment-Solutions/blob/main/Assignment2/22161_JIYA_SINHA_nlpassignment2.ipynb\" target=\"_parent\"><img src=\"https://colab.research.google.com/assets/colab-badge.svg\" alt=\"Open In Colab\"/></a>"
      ]
    },
    {
      "cell_type": "markdown",
      "source": [
        "## IMPORTING LIBRARIES"
      ],
      "metadata": {
        "id": "DQG7XB_AmoIn"
      }
    },
    {
      "cell_type": "code",
      "source": [
        "import os\n",
        "import numpy as np\n",
        "import pandas as pd"
      ],
      "metadata": {
        "id": "FCHjQEZQmqOK"
      },
      "execution_count": 3,
      "outputs": []
    },
    {
      "cell_type": "markdown",
      "source": [
        "## LOADING DATASET"
      ],
      "metadata": {
        "id": "-fvNQ6odmlns"
      }
    },
    {
      "cell_type": "code",
      "execution_count": 1,
      "metadata": {
        "colab": {
          "base_uri": "https://localhost:8080/"
        },
        "id": "Jk9Zbtj3mERg",
        "outputId": "82d4293f-15ad-43f9-d37a-274a9afe7088"
      },
      "outputs": [
        {
          "output_type": "stream",
          "name": "stdout",
          "text": [
            "Cloning into 'Assignment_1_2025'...\n",
            "remote: Enumerating objects: 35, done.\u001b[K\n",
            "remote: Counting objects: 100% (35/35), done.\u001b[K\n",
            "remote: Compressing objects: 100% (29/29), done.\u001b[K\n",
            "remote: Total 35 (delta 6), reused 0 (delta 0), pack-reused 0 (from 0)\u001b[K\n",
            "Receiving objects: 100% (35/35), 1.06 MiB | 10.05 MiB/s, done.\n",
            "Resolving deltas: 100% (6/6), done.\n"
          ]
        }
      ],
      "source": [
        "!git clone https://github.com/islnlp/Assignment_1_2025"
      ]
    },
    {
      "cell_type": "code",
      "source": [
        "def load_data(name):\n",
        "  root_fp = f\"/content/Assignment_1_2025/{name}\"\n",
        "  train = pd.read_csv(os.path.join(root_fp, \"train.csv\"))\n",
        "  val = pd.read_csv(os.path.join(root_fp, \"val.csv\"))\n",
        "  train = train.dropna(subset=['Sentence'])\n",
        "  val = val.dropna(subset=['Sentence'])\n",
        "  return train, val"
      ],
      "metadata": {
        "id": "FoCGMiUqmYQg"
      },
      "execution_count": 4,
      "outputs": []
    },
    {
      "cell_type": "code",
      "source": [
        "train, val = load_data('hate')"
      ],
      "metadata": {
        "id": "BRMR1WuSoT1U"
      },
      "execution_count": 6,
      "outputs": []
    },
    {
      "cell_type": "code",
      "source": [
        "a = (train['Sentence'])"
      ],
      "metadata": {
        "id": "oaTvopFOobKf"
      },
      "execution_count": 10,
      "outputs": []
    },
    {
      "cell_type": "code",
      "source": [
        "x = {2:'ehb',23:'c'}"
      ],
      "metadata": {
        "id": "qF7o6DEvohMc"
      },
      "execution_count": 14,
      "outputs": []
    },
    {
      "cell_type": "code",
      "source": [
        "x[23]"
      ],
      "metadata": {
        "colab": {
          "base_uri": "https://localhost:8080/",
          "height": 36
        },
        "id": "TgwLGhSxpEeL",
        "outputId": "8fe05d18-44ef-4f3a-8e38-fba52109d231"
      },
      "execution_count": 21,
      "outputs": [
        {
          "output_type": "execute_result",
          "data": {
            "text/plain": [
              "'c'"
            ],
            "application/vnd.google.colaboratory.intrinsic+json": {
              "type": "string"
            }
          },
          "metadata": {},
          "execution_count": 21
        }
      ]
    },
    {
      "cell_type": "code",
      "source": [
        "num = 2\n",
        "if num in x:\n",
        "  print(x[num])"
      ],
      "metadata": {
        "colab": {
          "base_uri": "https://localhost:8080/"
        },
        "id": "No0bvA6to7Rf",
        "outputId": "a00521de-fae6-4688-ee58-67f47af46473"
      },
      "execution_count": 22,
      "outputs": [
        {
          "output_type": "stream",
          "name": "stdout",
          "text": [
            "ehb\n"
          ]
        }
      ]
    },
    {
      "cell_type": "code",
      "source": [
        "def form_vocab(data):\n",
        "\n",
        "  word2index = dict()  # Gives mapping from index to word\n",
        "  index2word = dict()  # Gives\n",
        "\n",
        "  for sentence in data:\n",
        "    for word in sentence.split():\n",
        "      if word not in word2index:\n",
        "        pass"
      ],
      "metadata": {
        "id": "yCMTMEAzmyt-"
      },
      "execution_count": null,
      "outputs": []
    }
  ]
}